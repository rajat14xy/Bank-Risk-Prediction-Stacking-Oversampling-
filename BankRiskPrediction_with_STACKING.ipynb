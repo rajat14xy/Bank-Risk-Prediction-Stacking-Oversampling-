{
  "nbformat": 4,
  "nbformat_minor": 0,
  "metadata": {
    "colab": {
      "name": "BankRiskPrediction with STACKING.ipynb",
      "provenance": [],
      "authorship_tag": "ABX9TyPBj1fpHEhWEOBjeEEKX7qG",
      "include_colab_link": true
    },
    "kernelspec": {
      "name": "python3",
      "display_name": "Python 3"
    },
    "language_info": {
      "name": "python"
    }
  },
  "cells": [
    {
      "cell_type": "markdown",
      "metadata": {
        "id": "view-in-github",
        "colab_type": "text"
      },
      "source": [
        "<a href=\"https://colab.research.google.com/github/rajat14xy/Bank-Risk-Prediction-Stacking-Oversampling-/blob/main/BankRiskPrediction_with_STACKING.ipynb\" target=\"_parent\"><img src=\"https://colab.research.google.com/assets/colab-badge.svg\" alt=\"Open In Colab\"/></a>"
      ]
    },
    {
      "cell_type": "code",
      "metadata": {
        "colab": {
          "base_uri": "https://localhost:8080/"
        },
        "id": "xJWd9ze9FGg9",
        "outputId": "5ffc6ed9-fc93-4274-fefa-7f2e30f10791"
      },
      "source": [
        "from google.colab import drive\n",
        "drive.mount('/content/drive')"
      ],
      "execution_count": 43,
      "outputs": [
        {
          "output_type": "stream",
          "text": [
            "Drive already mounted at /content/drive; to attempt to forcibly remount, call drive.mount(\"/content/drive\", force_remount=True).\n"
          ],
          "name": "stdout"
        }
      ]
    },
    {
      "cell_type": "code",
      "metadata": {
        "id": "d_O4GdG9KIxk"
      },
      "source": [
        "import numpy as np                     # For mathematical calculations \n",
        "import seaborn as sns                  # For data visualization \n",
        "import matplotlib.pyplot as plt "
      ],
      "execution_count": 44,
      "outputs": []
    },
    {
      "cell_type": "code",
      "metadata": {
        "id": "AfcG6XjFKhsV"
      },
      "source": [
        "import pandas as pd\n",
        "trainDf = pd.read_csv(\"/content/drive/MyDrive/data,bank/Training Data.csv\");\n"
      ],
      "execution_count": 45,
      "outputs": []
    },
    {
      "cell_type": "code",
      "metadata": {
        "id": "y-9bYVH1KlHc"
      },
      "source": [
        "train_orignal=trainDf\n"
      ],
      "execution_count": 46,
      "outputs": []
    },
    {
      "cell_type": "code",
      "metadata": {
        "colab": {
          "base_uri": "https://localhost:8080/",
          "height": 142
        },
        "id": "2hyfUWvLKmZP",
        "outputId": "5b2bee50-b97b-4dbf-8450-cdbeb2fe4187"
      },
      "source": [
        "train_orignal.head(3)"
      ],
      "execution_count": 47,
      "outputs": [
        {
          "output_type": "execute_result",
          "data": {
            "text/html": [
              "<div>\n",
              "<style scoped>\n",
              "    .dataframe tbody tr th:only-of-type {\n",
              "        vertical-align: middle;\n",
              "    }\n",
              "\n",
              "    .dataframe tbody tr th {\n",
              "        vertical-align: top;\n",
              "    }\n",
              "\n",
              "    .dataframe thead th {\n",
              "        text-align: right;\n",
              "    }\n",
              "</style>\n",
              "<table border=\"1\" class=\"dataframe\">\n",
              "  <thead>\n",
              "    <tr style=\"text-align: right;\">\n",
              "      <th></th>\n",
              "      <th>Id</th>\n",
              "      <th>income</th>\n",
              "      <th>age</th>\n",
              "      <th>experience</th>\n",
              "      <th>married</th>\n",
              "      <th>house_ownership</th>\n",
              "      <th>car_ownership</th>\n",
              "      <th>profession</th>\n",
              "      <th>city</th>\n",
              "      <th>state</th>\n",
              "      <th>current_job_years</th>\n",
              "      <th>current_house_years</th>\n",
              "      <th>risk_flag</th>\n",
              "    </tr>\n",
              "  </thead>\n",
              "  <tbody>\n",
              "    <tr>\n",
              "      <th>0</th>\n",
              "      <td>1</td>\n",
              "      <td>1303835</td>\n",
              "      <td>23</td>\n",
              "      <td>3</td>\n",
              "      <td>single</td>\n",
              "      <td>rented</td>\n",
              "      <td>no</td>\n",
              "      <td>Mechanical_engineer</td>\n",
              "      <td>Rewa</td>\n",
              "      <td>Madhya_Pradesh</td>\n",
              "      <td>3</td>\n",
              "      <td>13</td>\n",
              "      <td>0</td>\n",
              "    </tr>\n",
              "    <tr>\n",
              "      <th>1</th>\n",
              "      <td>2</td>\n",
              "      <td>7574516</td>\n",
              "      <td>40</td>\n",
              "      <td>10</td>\n",
              "      <td>single</td>\n",
              "      <td>rented</td>\n",
              "      <td>no</td>\n",
              "      <td>Software_Developer</td>\n",
              "      <td>Parbhani</td>\n",
              "      <td>Maharashtra</td>\n",
              "      <td>9</td>\n",
              "      <td>13</td>\n",
              "      <td>0</td>\n",
              "    </tr>\n",
              "    <tr>\n",
              "      <th>2</th>\n",
              "      <td>3</td>\n",
              "      <td>3991815</td>\n",
              "      <td>66</td>\n",
              "      <td>4</td>\n",
              "      <td>married</td>\n",
              "      <td>rented</td>\n",
              "      <td>no</td>\n",
              "      <td>Technical_writer</td>\n",
              "      <td>Alappuzha</td>\n",
              "      <td>Kerala</td>\n",
              "      <td>4</td>\n",
              "      <td>10</td>\n",
              "      <td>0</td>\n",
              "    </tr>\n",
              "  </tbody>\n",
              "</table>\n",
              "</div>"
            ],
            "text/plain": [
              "   Id   income  age  ...  current_job_years current_house_years risk_flag\n",
              "0   1  1303835   23  ...                  3                  13         0\n",
              "1   2  7574516   40  ...                  9                  13         0\n",
              "2   3  3991815   66  ...                  4                  10         0\n",
              "\n",
              "[3 rows x 13 columns]"
            ]
          },
          "metadata": {
            "tags": []
          },
          "execution_count": 47
        }
      ]
    },
    {
      "cell_type": "code",
      "metadata": {
        "colab": {
          "base_uri": "https://localhost:8080/"
        },
        "id": "iErEWDs1N_UI",
        "outputId": "ff3758f7-8f44-4672-9398-7c045032b5a2"
      },
      "source": [
        "trainDf.isna().sum()"
      ],
      "execution_count": 48,
      "outputs": [
        {
          "output_type": "execute_result",
          "data": {
            "text/plain": [
              "Id                     0\n",
              "income                 0\n",
              "age                    0\n",
              "experience             0\n",
              "married                0\n",
              "house_ownership        0\n",
              "car_ownership          0\n",
              "profession             0\n",
              "city                   0\n",
              "state                  0\n",
              "current_job_years      0\n",
              "current_house_years    0\n",
              "risk_flag              0\n",
              "dtype: int64"
            ]
          },
          "metadata": {
            "tags": []
          },
          "execution_count": 48
        }
      ]
    },
    {
      "cell_type": "code",
      "metadata": {
        "colab": {
          "base_uri": "https://localhost:8080/",
          "height": 419
        },
        "id": "8C4oSQyaK9HV",
        "outputId": "0e9a1fcc-3570-4b1a-f782-55cbb60f8fdd"
      },
      "source": [
        "trainDf = trainDf.drop(['profession','city','state'],axis=1)\n",
        "trainDf"
      ],
      "execution_count": 49,
      "outputs": [
        {
          "output_type": "execute_result",
          "data": {
            "text/html": [
              "<div>\n",
              "<style scoped>\n",
              "    .dataframe tbody tr th:only-of-type {\n",
              "        vertical-align: middle;\n",
              "    }\n",
              "\n",
              "    .dataframe tbody tr th {\n",
              "        vertical-align: top;\n",
              "    }\n",
              "\n",
              "    .dataframe thead th {\n",
              "        text-align: right;\n",
              "    }\n",
              "</style>\n",
              "<table border=\"1\" class=\"dataframe\">\n",
              "  <thead>\n",
              "    <tr style=\"text-align: right;\">\n",
              "      <th></th>\n",
              "      <th>Id</th>\n",
              "      <th>income</th>\n",
              "      <th>age</th>\n",
              "      <th>experience</th>\n",
              "      <th>married</th>\n",
              "      <th>house_ownership</th>\n",
              "      <th>car_ownership</th>\n",
              "      <th>current_job_years</th>\n",
              "      <th>current_house_years</th>\n",
              "      <th>risk_flag</th>\n",
              "    </tr>\n",
              "  </thead>\n",
              "  <tbody>\n",
              "    <tr>\n",
              "      <th>0</th>\n",
              "      <td>1</td>\n",
              "      <td>1303835</td>\n",
              "      <td>23</td>\n",
              "      <td>3</td>\n",
              "      <td>single</td>\n",
              "      <td>rented</td>\n",
              "      <td>no</td>\n",
              "      <td>3</td>\n",
              "      <td>13</td>\n",
              "      <td>0</td>\n",
              "    </tr>\n",
              "    <tr>\n",
              "      <th>1</th>\n",
              "      <td>2</td>\n",
              "      <td>7574516</td>\n",
              "      <td>40</td>\n",
              "      <td>10</td>\n",
              "      <td>single</td>\n",
              "      <td>rented</td>\n",
              "      <td>no</td>\n",
              "      <td>9</td>\n",
              "      <td>13</td>\n",
              "      <td>0</td>\n",
              "    </tr>\n",
              "    <tr>\n",
              "      <th>2</th>\n",
              "      <td>3</td>\n",
              "      <td>3991815</td>\n",
              "      <td>66</td>\n",
              "      <td>4</td>\n",
              "      <td>married</td>\n",
              "      <td>rented</td>\n",
              "      <td>no</td>\n",
              "      <td>4</td>\n",
              "      <td>10</td>\n",
              "      <td>0</td>\n",
              "    </tr>\n",
              "    <tr>\n",
              "      <th>3</th>\n",
              "      <td>4</td>\n",
              "      <td>6256451</td>\n",
              "      <td>41</td>\n",
              "      <td>2</td>\n",
              "      <td>single</td>\n",
              "      <td>rented</td>\n",
              "      <td>yes</td>\n",
              "      <td>2</td>\n",
              "      <td>12</td>\n",
              "      <td>1</td>\n",
              "    </tr>\n",
              "    <tr>\n",
              "      <th>4</th>\n",
              "      <td>5</td>\n",
              "      <td>5768871</td>\n",
              "      <td>47</td>\n",
              "      <td>11</td>\n",
              "      <td>single</td>\n",
              "      <td>rented</td>\n",
              "      <td>no</td>\n",
              "      <td>3</td>\n",
              "      <td>14</td>\n",
              "      <td>1</td>\n",
              "    </tr>\n",
              "    <tr>\n",
              "      <th>...</th>\n",
              "      <td>...</td>\n",
              "      <td>...</td>\n",
              "      <td>...</td>\n",
              "      <td>...</td>\n",
              "      <td>...</td>\n",
              "      <td>...</td>\n",
              "      <td>...</td>\n",
              "      <td>...</td>\n",
              "      <td>...</td>\n",
              "      <td>...</td>\n",
              "    </tr>\n",
              "    <tr>\n",
              "      <th>251995</th>\n",
              "      <td>251996</td>\n",
              "      <td>8154883</td>\n",
              "      <td>43</td>\n",
              "      <td>13</td>\n",
              "      <td>single</td>\n",
              "      <td>rented</td>\n",
              "      <td>no</td>\n",
              "      <td>6</td>\n",
              "      <td>11</td>\n",
              "      <td>0</td>\n",
              "    </tr>\n",
              "    <tr>\n",
              "      <th>251996</th>\n",
              "      <td>251997</td>\n",
              "      <td>2843572</td>\n",
              "      <td>26</td>\n",
              "      <td>10</td>\n",
              "      <td>single</td>\n",
              "      <td>rented</td>\n",
              "      <td>no</td>\n",
              "      <td>6</td>\n",
              "      <td>11</td>\n",
              "      <td>0</td>\n",
              "    </tr>\n",
              "    <tr>\n",
              "      <th>251997</th>\n",
              "      <td>251998</td>\n",
              "      <td>4522448</td>\n",
              "      <td>46</td>\n",
              "      <td>7</td>\n",
              "      <td>single</td>\n",
              "      <td>rented</td>\n",
              "      <td>no</td>\n",
              "      <td>7</td>\n",
              "      <td>12</td>\n",
              "      <td>0</td>\n",
              "    </tr>\n",
              "    <tr>\n",
              "      <th>251998</th>\n",
              "      <td>251999</td>\n",
              "      <td>6507128</td>\n",
              "      <td>45</td>\n",
              "      <td>0</td>\n",
              "      <td>single</td>\n",
              "      <td>rented</td>\n",
              "      <td>no</td>\n",
              "      <td>0</td>\n",
              "      <td>10</td>\n",
              "      <td>0</td>\n",
              "    </tr>\n",
              "    <tr>\n",
              "      <th>251999</th>\n",
              "      <td>252000</td>\n",
              "      <td>9070230</td>\n",
              "      <td>70</td>\n",
              "      <td>17</td>\n",
              "      <td>single</td>\n",
              "      <td>rented</td>\n",
              "      <td>no</td>\n",
              "      <td>7</td>\n",
              "      <td>11</td>\n",
              "      <td>0</td>\n",
              "    </tr>\n",
              "  </tbody>\n",
              "</table>\n",
              "<p>252000 rows × 10 columns</p>\n",
              "</div>"
            ],
            "text/plain": [
              "            Id   income  age  ...  current_job_years current_house_years risk_flag\n",
              "0            1  1303835   23  ...                  3                  13         0\n",
              "1            2  7574516   40  ...                  9                  13         0\n",
              "2            3  3991815   66  ...                  4                  10         0\n",
              "3            4  6256451   41  ...                  2                  12         1\n",
              "4            5  5768871   47  ...                  3                  14         1\n",
              "...        ...      ...  ...  ...                ...                 ...       ...\n",
              "251995  251996  8154883   43  ...                  6                  11         0\n",
              "251996  251997  2843572   26  ...                  6                  11         0\n",
              "251997  251998  4522448   46  ...                  7                  12         0\n",
              "251998  251999  6507128   45  ...                  0                  10         0\n",
              "251999  252000  9070230   70  ...                  7                  11         0\n",
              "\n",
              "[252000 rows x 10 columns]"
            ]
          },
          "metadata": {
            "tags": []
          },
          "execution_count": 49
        }
      ]
    },
    {
      "cell_type": "code",
      "metadata": {
        "colab": {
          "base_uri": "https://localhost:8080/",
          "height": 450
        },
        "id": "jh6b5yK9LB0r",
        "outputId": "e62983ad-3487-44ae-bd54-47fcf9e41cb7"
      },
      "source": [
        "trainDf.set_index('Id',inplace=True)\n",
        "trainDf"
      ],
      "execution_count": 50,
      "outputs": [
        {
          "output_type": "execute_result",
          "data": {
            "text/html": [
              "<div>\n",
              "<style scoped>\n",
              "    .dataframe tbody tr th:only-of-type {\n",
              "        vertical-align: middle;\n",
              "    }\n",
              "\n",
              "    .dataframe tbody tr th {\n",
              "        vertical-align: top;\n",
              "    }\n",
              "\n",
              "    .dataframe thead th {\n",
              "        text-align: right;\n",
              "    }\n",
              "</style>\n",
              "<table border=\"1\" class=\"dataframe\">\n",
              "  <thead>\n",
              "    <tr style=\"text-align: right;\">\n",
              "      <th></th>\n",
              "      <th>income</th>\n",
              "      <th>age</th>\n",
              "      <th>experience</th>\n",
              "      <th>married</th>\n",
              "      <th>house_ownership</th>\n",
              "      <th>car_ownership</th>\n",
              "      <th>current_job_years</th>\n",
              "      <th>current_house_years</th>\n",
              "      <th>risk_flag</th>\n",
              "    </tr>\n",
              "    <tr>\n",
              "      <th>Id</th>\n",
              "      <th></th>\n",
              "      <th></th>\n",
              "      <th></th>\n",
              "      <th></th>\n",
              "      <th></th>\n",
              "      <th></th>\n",
              "      <th></th>\n",
              "      <th></th>\n",
              "      <th></th>\n",
              "    </tr>\n",
              "  </thead>\n",
              "  <tbody>\n",
              "    <tr>\n",
              "      <th>1</th>\n",
              "      <td>1303835</td>\n",
              "      <td>23</td>\n",
              "      <td>3</td>\n",
              "      <td>single</td>\n",
              "      <td>rented</td>\n",
              "      <td>no</td>\n",
              "      <td>3</td>\n",
              "      <td>13</td>\n",
              "      <td>0</td>\n",
              "    </tr>\n",
              "    <tr>\n",
              "      <th>2</th>\n",
              "      <td>7574516</td>\n",
              "      <td>40</td>\n",
              "      <td>10</td>\n",
              "      <td>single</td>\n",
              "      <td>rented</td>\n",
              "      <td>no</td>\n",
              "      <td>9</td>\n",
              "      <td>13</td>\n",
              "      <td>0</td>\n",
              "    </tr>\n",
              "    <tr>\n",
              "      <th>3</th>\n",
              "      <td>3991815</td>\n",
              "      <td>66</td>\n",
              "      <td>4</td>\n",
              "      <td>married</td>\n",
              "      <td>rented</td>\n",
              "      <td>no</td>\n",
              "      <td>4</td>\n",
              "      <td>10</td>\n",
              "      <td>0</td>\n",
              "    </tr>\n",
              "    <tr>\n",
              "      <th>4</th>\n",
              "      <td>6256451</td>\n",
              "      <td>41</td>\n",
              "      <td>2</td>\n",
              "      <td>single</td>\n",
              "      <td>rented</td>\n",
              "      <td>yes</td>\n",
              "      <td>2</td>\n",
              "      <td>12</td>\n",
              "      <td>1</td>\n",
              "    </tr>\n",
              "    <tr>\n",
              "      <th>5</th>\n",
              "      <td>5768871</td>\n",
              "      <td>47</td>\n",
              "      <td>11</td>\n",
              "      <td>single</td>\n",
              "      <td>rented</td>\n",
              "      <td>no</td>\n",
              "      <td>3</td>\n",
              "      <td>14</td>\n",
              "      <td>1</td>\n",
              "    </tr>\n",
              "    <tr>\n",
              "      <th>...</th>\n",
              "      <td>...</td>\n",
              "      <td>...</td>\n",
              "      <td>...</td>\n",
              "      <td>...</td>\n",
              "      <td>...</td>\n",
              "      <td>...</td>\n",
              "      <td>...</td>\n",
              "      <td>...</td>\n",
              "      <td>...</td>\n",
              "    </tr>\n",
              "    <tr>\n",
              "      <th>251996</th>\n",
              "      <td>8154883</td>\n",
              "      <td>43</td>\n",
              "      <td>13</td>\n",
              "      <td>single</td>\n",
              "      <td>rented</td>\n",
              "      <td>no</td>\n",
              "      <td>6</td>\n",
              "      <td>11</td>\n",
              "      <td>0</td>\n",
              "    </tr>\n",
              "    <tr>\n",
              "      <th>251997</th>\n",
              "      <td>2843572</td>\n",
              "      <td>26</td>\n",
              "      <td>10</td>\n",
              "      <td>single</td>\n",
              "      <td>rented</td>\n",
              "      <td>no</td>\n",
              "      <td>6</td>\n",
              "      <td>11</td>\n",
              "      <td>0</td>\n",
              "    </tr>\n",
              "    <tr>\n",
              "      <th>251998</th>\n",
              "      <td>4522448</td>\n",
              "      <td>46</td>\n",
              "      <td>7</td>\n",
              "      <td>single</td>\n",
              "      <td>rented</td>\n",
              "      <td>no</td>\n",
              "      <td>7</td>\n",
              "      <td>12</td>\n",
              "      <td>0</td>\n",
              "    </tr>\n",
              "    <tr>\n",
              "      <th>251999</th>\n",
              "      <td>6507128</td>\n",
              "      <td>45</td>\n",
              "      <td>0</td>\n",
              "      <td>single</td>\n",
              "      <td>rented</td>\n",
              "      <td>no</td>\n",
              "      <td>0</td>\n",
              "      <td>10</td>\n",
              "      <td>0</td>\n",
              "    </tr>\n",
              "    <tr>\n",
              "      <th>252000</th>\n",
              "      <td>9070230</td>\n",
              "      <td>70</td>\n",
              "      <td>17</td>\n",
              "      <td>single</td>\n",
              "      <td>rented</td>\n",
              "      <td>no</td>\n",
              "      <td>7</td>\n",
              "      <td>11</td>\n",
              "      <td>0</td>\n",
              "    </tr>\n",
              "  </tbody>\n",
              "</table>\n",
              "<p>252000 rows × 9 columns</p>\n",
              "</div>"
            ],
            "text/plain": [
              "         income  age  ...  current_house_years risk_flag\n",
              "Id                    ...                               \n",
              "1       1303835   23  ...                   13         0\n",
              "2       7574516   40  ...                   13         0\n",
              "3       3991815   66  ...                   10         0\n",
              "4       6256451   41  ...                   12         1\n",
              "5       5768871   47  ...                   14         1\n",
              "...         ...  ...  ...                  ...       ...\n",
              "251996  8154883   43  ...                   11         0\n",
              "251997  2843572   26  ...                   11         0\n",
              "251998  4522448   46  ...                   12         0\n",
              "251999  6507128   45  ...                   10         0\n",
              "252000  9070230   70  ...                   11         0\n",
              "\n",
              "[252000 rows x 9 columns]"
            ]
          },
          "metadata": {
            "tags": []
          },
          "execution_count": 50
        }
      ]
    },
    {
      "cell_type": "code",
      "metadata": {
        "colab": {
          "base_uri": "https://localhost:8080/"
        },
        "id": "YUueeB2sTa2i",
        "outputId": "e77a8b5d-322f-4ed1-ba27-bc30a34c5529"
      },
      "source": [
        "train_orignal['house_ownership'].value_counts()"
      ],
      "execution_count": 51,
      "outputs": [
        {
          "output_type": "execute_result",
          "data": {
            "text/plain": [
              "rented          231898\n",
              "owned            12918\n",
              "norent_noown      7184\n",
              "Name: house_ownership, dtype: int64"
            ]
          },
          "metadata": {
            "tags": []
          },
          "execution_count": 51
        }
      ]
    },
    {
      "cell_type": "code",
      "metadata": {
        "colab": {
          "base_uri": "https://localhost:8080/",
          "height": 449
        },
        "id": "q1L1lawqTJUb",
        "outputId": "2a7d79a3-7e42-4ccd-db36-bb921771a779"
      },
      "source": [
        "x=pd.crosstab(train_orignal['house_ownership'],train_orignal['risk_flag']) \n",
        "\n",
        "x.div(x.sum(1).astype(float), axis=0).plot(kind=\"bar\", stacked=False, figsize=(4,6)) \n",
        "plt.show() "
      ],
      "execution_count": 52,
      "outputs": [
        {
          "output_type": "display_data",
          "data": {
            "image/png": "[encoded data removed]",
            "text/plain": [
              "<Figure size 288x432 with 1 Axes>"
            ]
          },
          "metadata": {
            "tags": [],
            "needs_background": "light"
          }
        }
      ]
    },
    {
      "cell_type": "code",
      "metadata": {
        "colab": {
          "base_uri": "https://localhost:8080/",
          "height": 396
        },
        "id": "Ny_ZiwKQUCy9",
        "outputId": "fc2032d0-8362-4e43-8e2b-dbc7f3a62a73"
      },
      "source": [
        "x=pd.crosstab(train_orignal['car_ownership'],train_orignal['risk_flag']) \n",
        "\n",
        "x.div(x.sum(1).astype(float), axis=0).plot(kind=\"bar\", stacked=False, figsize=(4,6)) \n",
        "plt.show() "
      ],
      "execution_count": 53,
      "outputs": [
        {
          "output_type": "display_data",
          "data": {
            "image/png": "[encoded data removed]",
            "text/plain": [
              "<Figure size 288x432 with 1 Axes>"
            ]
          },
          "metadata": {
            "tags": [],
            "needs_background": "light"
          }
        }
      ]
    },
    {
      "cell_type": "code",
      "metadata": {
        "id": "qkEyFZcnRyiU"
      },
      "source": [
        "trainDf['married'].replace('single', 1,inplace=True) \n",
        "trainDf['married'].replace('married', 0,inplace=True) \n",
        "\n",
        "trainDf['house_ownership'].replace('rented', 1,inplace=True) \n",
        "trainDf['house_ownership'].replace('owned', 0,inplace=True) \n",
        "trainDf['house_ownership'].replace('norent_noown', 1,inplace=True) \n",
        "\n",
        "trainDf['car_ownership'].replace('no', 1,inplace=True) \n",
        "trainDf['car_ownership'].replace('yes', 0,inplace=True) "
      ],
      "execution_count": 54,
      "outputs": []
    },
    {
      "cell_type": "code",
      "metadata": {
        "colab": {
          "base_uri": "https://localhost:8080/",
          "height": 450
        },
        "id": "kOkdLN0_VIAa",
        "outputId": "e69fc84a-afc4-4408-82a9-3988777d28c4"
      },
      "source": [
        "trainDf"
      ],
      "execution_count": 55,
      "outputs": [
        {
          "output_type": "execute_result",
          "data": {
            "text/html": [
              "<div>\n",
              "<style scoped>\n",
              "    .dataframe tbody tr th:only-of-type {\n",
              "        vertical-align: middle;\n",
              "    }\n",
              "\n",
              "    .dataframe tbody tr th {\n",
              "        vertical-align: top;\n",
              "    }\n",
              "\n",
              "    .dataframe thead th {\n",
              "        text-align: right;\n",
              "    }\n",
              "</style>\n",
              "<table border=\"1\" class=\"dataframe\">\n",
              "  <thead>\n",
              "    <tr style=\"text-align: right;\">\n",
              "      <th></th>\n",
              "      <th>income</th>\n",
              "      <th>age</th>\n",
              "      <th>experience</th>\n",
              "      <th>married</th>\n",
              "      <th>house_ownership</th>\n",
              "      <th>car_ownership</th>\n",
              "      <th>current_job_years</th>\n",
              "      <th>current_house_years</th>\n",
              "      <th>risk_flag</th>\n",
              "    </tr>\n",
              "    <tr>\n",
              "      <th>Id</th>\n",
              "      <th></th>\n",
              "      <th></th>\n",
              "      <th></th>\n",
              "      <th></th>\n",
              "      <th></th>\n",
              "      <th></th>\n",
              "      <th></th>\n",
              "      <th></th>\n",
              "      <th></th>\n",
              "    </tr>\n",
              "  </thead>\n",
              "  <tbody>\n",
              "    <tr>\n",
              "      <th>1</th>\n",
              "      <td>1303835</td>\n",
              "      <td>23</td>\n",
              "      <td>3</td>\n",
              "      <td>1</td>\n",
              "      <td>1</td>\n",
              "      <td>1</td>\n",
              "      <td>3</td>\n",
              "      <td>13</td>\n",
              "      <td>0</td>\n",
              "    </tr>\n",
              "    <tr>\n",
              "      <th>2</th>\n",
              "      <td>7574516</td>\n",
              "      <td>40</td>\n",
              "      <td>10</td>\n",
              "      <td>1</td>\n",
              "      <td>1</td>\n",
              "      <td>1</td>\n",
              "      <td>9</td>\n",
              "      <td>13</td>\n",
              "      <td>0</td>\n",
              "    </tr>\n",
              "    <tr>\n",
              "      <th>3</th>\n",
              "      <td>3991815</td>\n",
              "      <td>66</td>\n",
              "      <td>4</td>\n",
              "      <td>0</td>\n",
              "      <td>1</td>\n",
              "      <td>1</td>\n",
              "      <td>4</td>\n",
              "      <td>10</td>\n",
              "      <td>0</td>\n",
              "    </tr>\n",
              "    <tr>\n",
              "      <th>4</th>\n",
              "      <td>6256451</td>\n",
              "      <td>41</td>\n",
              "      <td>2</td>\n",
              "      <td>1</td>\n",
              "      <td>1</td>\n",
              "      <td>0</td>\n",
              "      <td>2</td>\n",
              "      <td>12</td>\n",
              "      <td>1</td>\n",
              "    </tr>\n",
              "    <tr>\n",
              "      <th>5</th>\n",
              "      <td>5768871</td>\n",
              "      <td>47</td>\n",
              "      <td>11</td>\n",
              "      <td>1</td>\n",
              "      <td>1</td>\n",
              "      <td>1</td>\n",
              "      <td>3</td>\n",
              "      <td>14</td>\n",
              "      <td>1</td>\n",
              "    </tr>\n",
              "    <tr>\n",
              "      <th>...</th>\n",
              "      <td>...</td>\n",
              "      <td>...</td>\n",
              "      <td>...</td>\n",
              "      <td>...</td>\n",
              "      <td>...</td>\n",
              "      <td>...</td>\n",
              "      <td>...</td>\n",
              "      <td>...</td>\n",
              "      <td>...</td>\n",
              "    </tr>\n",
              "    <tr>\n",
              "      <th>251996</th>\n",
              "      <td>8154883</td>\n",
              "      <td>43</td>\n",
              "      <td>13</td>\n",
              "      <td>1</td>\n",
              "      <td>1</td>\n",
              "      <td>1</td>\n",
              "      <td>6</td>\n",
              "      <td>11</td>\n",
              "      <td>0</td>\n",
              "    </tr>\n",
              "    <tr>\n",
              "      <th>251997</th>\n",
              "      <td>2843572</td>\n",
              "      <td>26</td>\n",
              "      <td>10</td>\n",
              "      <td>1</td>\n",
              "      <td>1</td>\n",
              "      <td>1</td>\n",
              "      <td>6</td>\n",
              "      <td>11</td>\n",
              "      <td>0</td>\n",
              "    </tr>\n",
              "    <tr>\n",
              "      <th>251998</th>\n",
              "      <td>4522448</td>\n",
              "      <td>46</td>\n",
              "      <td>7</td>\n",
              "      <td>1</td>\n",
              "      <td>1</td>\n",
              "      <td>1</td>\n",
              "      <td>7</td>\n",
              "      <td>12</td>\n",
              "      <td>0</td>\n",
              "    </tr>\n",
              "    <tr>\n",
              "      <th>251999</th>\n",
              "      <td>6507128</td>\n",
              "      <td>45</td>\n",
              "      <td>0</td>\n",
              "      <td>1</td>\n",
              "      <td>1</td>\n",
              "      <td>1</td>\n",
              "      <td>0</td>\n",
              "      <td>10</td>\n",
              "      <td>0</td>\n",
              "    </tr>\n",
              "    <tr>\n",
              "      <th>252000</th>\n",
              "      <td>9070230</td>\n",
              "      <td>70</td>\n",
              "      <td>17</td>\n",
              "      <td>1</td>\n",
              "      <td>1</td>\n",
              "      <td>1</td>\n",
              "      <td>7</td>\n",
              "      <td>11</td>\n",
              "      <td>0</td>\n",
              "    </tr>\n",
              "  </tbody>\n",
              "</table>\n",
              "<p>252000 rows × 9 columns</p>\n",
              "</div>"
            ],
            "text/plain": [
              "         income  age  ...  current_house_years  risk_flag\n",
              "Id                    ...                                \n",
              "1       1303835   23  ...                   13          0\n",
              "2       7574516   40  ...                   13          0\n",
              "3       3991815   66  ...                   10          0\n",
              "4       6256451   41  ...                   12          1\n",
              "5       5768871   47  ...                   14          1\n",
              "...         ...  ...  ...                  ...        ...\n",
              "251996  8154883   43  ...                   11          0\n",
              "251997  2843572   26  ...                   11          0\n",
              "251998  4522448   46  ...                   12          0\n",
              "251999  6507128   45  ...                   10          0\n",
              "252000  9070230   70  ...                   11          0\n",
              "\n",
              "[252000 rows x 9 columns]"
            ]
          },
          "metadata": {
            "tags": []
          },
          "execution_count": 55
        }
      ]
    },
    {
      "cell_type": "code",
      "metadata": {
        "id": "zZIOhQi-YiZE"
      },
      "source": [
        "y = trainDf['risk_flag']\n",
        "X = trainDf.drop('risk_flag', axis=1)"
      ],
      "execution_count": 56,
      "outputs": []
    },
    {
      "cell_type": "code",
      "metadata": {
        "id": "iyhpMgn7VJgj"
      },
      "source": [
        "from sklearn.preprocessing import StandardScaler"
      ],
      "execution_count": 57,
      "outputs": []
    },
    {
      "cell_type": "code",
      "metadata": {
        "colab": {
          "base_uri": "https://localhost:8080/",
          "height": 450
        },
        "id": "YnFNSvXlZ9mF",
        "outputId": "f660cb05-c15d-4d45-92e9-27ebcb8ad349"
      },
      "source": [
        "X"
      ],
      "execution_count": 58,
      "outputs": [
        {
          "output_type": "execute_result",
          "data": {
            "text/html": [
              "<div>\n",
              "<style scoped>\n",
              "    .dataframe tbody tr th:only-of-type {\n",
              "        vertical-align: middle;\n",
              "    }\n",
              "\n",
              "    .dataframe tbody tr th {\n",
              "        vertical-align: top;\n",
              "    }\n",
              "\n",
              "    .dataframe thead th {\n",
              "        text-align: right;\n",
              "    }\n",
              "</style>\n",
              "<table border=\"1\" class=\"dataframe\">\n",
              "  <thead>\n",
              "    <tr style=\"text-align: right;\">\n",
              "      <th></th>\n",
              "      <th>income</th>\n",
              "      <th>age</th>\n",
              "      <th>experience</th>\n",
              "      <th>married</th>\n",
              "      <th>house_ownership</th>\n",
              "      <th>car_ownership</th>\n",
              "      <th>current_job_years</th>\n",
              "      <th>current_house_years</th>\n",
              "    </tr>\n",
              "    <tr>\n",
              "      <th>Id</th>\n",
              "      <th></th>\n",
              "      <th></th>\n",
              "      <th></th>\n",
              "      <th></th>\n",
              "      <th></th>\n",
              "      <th></th>\n",
              "      <th></th>\n",
              "      <th></th>\n",
              "    </tr>\n",
              "  </thead>\n",
              "  <tbody>\n",
              "    <tr>\n",
              "      <th>1</th>\n",
              "      <td>1303835</td>\n",
              "      <td>23</td>\n",
              "      <td>3</td>\n",
              "      <td>1</td>\n",
              "      <td>1</td>\n",
              "      <td>1</td>\n",
              "      <td>3</td>\n",
              "      <td>13</td>\n",
              "    </tr>\n",
              "    <tr>\n",
              "      <th>2</th>\n",
              "      <td>7574516</td>\n",
              "      <td>40</td>\n",
              "      <td>10</td>\n",
              "      <td>1</td>\n",
              "      <td>1</td>\n",
              "      <td>1</td>\n",
              "      <td>9</td>\n",
              "      <td>13</td>\n",
              "    </tr>\n",
              "    <tr>\n",
              "      <th>3</th>\n",
              "      <td>3991815</td>\n",
              "      <td>66</td>\n",
              "      <td>4</td>\n",
              "      <td>0</td>\n",
              "      <td>1</td>\n",
              "      <td>1</td>\n",
              "      <td>4</td>\n",
              "      <td>10</td>\n",
              "    </tr>\n",
              "    <tr>\n",
              "      <th>4</th>\n",
              "      <td>6256451</td>\n",
              "      <td>41</td>\n",
              "      <td>2</td>\n",
              "      <td>1</td>\n",
              "      <td>1</td>\n",
              "      <td>0</td>\n",
              "      <td>2</td>\n",
              "      <td>12</td>\n",
              "    </tr>\n",
              "    <tr>\n",
              "      <th>5</th>\n",
              "      <td>5768871</td>\n",
              "      <td>47</td>\n",
              "      <td>11</td>\n",
              "      <td>1</td>\n",
              "      <td>1</td>\n",
              "      <td>1</td>\n",
              "      <td>3</td>\n",
              "      <td>14</td>\n",
              "    </tr>\n",
              "    <tr>\n",
              "      <th>...</th>\n",
              "      <td>...</td>\n",
              "      <td>...</td>\n",
              "      <td>...</td>\n",
              "      <td>...</td>\n",
              "      <td>...</td>\n",
              "      <td>...</td>\n",
              "      <td>...</td>\n",
              "      <td>...</td>\n",
              "    </tr>\n",
              "    <tr>\n",
              "      <th>251996</th>\n",
              "      <td>8154883</td>\n",
              "      <td>43</td>\n",
              "      <td>13</td>\n",
              "      <td>1</td>\n",
              "      <td>1</td>\n",
              "      <td>1</td>\n",
              "      <td>6</td>\n",
              "      <td>11</td>\n",
              "    </tr>\n",
              "    <tr>\n",
              "      <th>251997</th>\n",
              "      <td>2843572</td>\n",
              "      <td>26</td>\n",
              "      <td>10</td>\n",
              "      <td>1</td>\n",
              "      <td>1</td>\n",
              "      <td>1</td>\n",
              "      <td>6</td>\n",
              "      <td>11</td>\n",
              "    </tr>\n",
              "    <tr>\n",
              "      <th>251998</th>\n",
              "      <td>4522448</td>\n",
              "      <td>46</td>\n",
              "      <td>7</td>\n",
              "      <td>1</td>\n",
              "      <td>1</td>\n",
              "      <td>1</td>\n",
              "      <td>7</td>\n",
              "      <td>12</td>\n",
              "    </tr>\n",
              "    <tr>\n",
              "      <th>251999</th>\n",
              "      <td>6507128</td>\n",
              "      <td>45</td>\n",
              "      <td>0</td>\n",
              "      <td>1</td>\n",
              "      <td>1</td>\n",
              "      <td>1</td>\n",
              "      <td>0</td>\n",
              "      <td>10</td>\n",
              "    </tr>\n",
              "    <tr>\n",
              "      <th>252000</th>\n",
              "      <td>9070230</td>\n",
              "      <td>70</td>\n",
              "      <td>17</td>\n",
              "      <td>1</td>\n",
              "      <td>1</td>\n",
              "      <td>1</td>\n",
              "      <td>7</td>\n",
              "      <td>11</td>\n",
              "    </tr>\n",
              "  </tbody>\n",
              "</table>\n",
              "<p>252000 rows × 8 columns</p>\n",
              "</div>"
            ],
            "text/plain": [
              "         income  age  ...  current_job_years  current_house_years\n",
              "Id                    ...                                        \n",
              "1       1303835   23  ...                  3                   13\n",
              "2       7574516   40  ...                  9                   13\n",
              "3       3991815   66  ...                  4                   10\n",
              "4       6256451   41  ...                  2                   12\n",
              "5       5768871   47  ...                  3                   14\n",
              "...         ...  ...  ...                ...                  ...\n",
              "251996  8154883   43  ...                  6                   11\n",
              "251997  2843572   26  ...                  6                   11\n",
              "251998  4522448   46  ...                  7                   12\n",
              "251999  6507128   45  ...                  0                   10\n",
              "252000  9070230   70  ...                  7                   11\n",
              "\n",
              "[252000 rows x 8 columns]"
            ]
          },
          "metadata": {
            "tags": []
          },
          "execution_count": 58
        }
      ]
    },
    {
      "cell_type": "code",
      "metadata": {
        "colab": {
          "base_uri": "https://localhost:8080/"
        },
        "id": "XLTXDV1ZWdGw",
        "outputId": "92440418-6e81-40f2-856d-7fc17d132b57"
      },
      "source": [
        "scaler = StandardScaler()\n",
        "X1 = scaler.fit(X)\n",
        "X_scaled = X1.transform(X)\n",
        "X_scaled"
      ],
      "execution_count": 59,
      "outputs": [
        {
          "output_type": "execute_result",
          "data": {
            "text/plain": [
              "array([[-1.28314452e+00, -1.57960273e+00, -1.18023232e+00, ...,\n",
              "         6.57128741e-01, -9.14130833e-01,  7.16355856e-01],\n",
              "       [ 8.95457244e-01, -5.83343354e-01, -1.40667075e-02, ...,\n",
              "         6.57128741e-01,  7.31036347e-01,  7.16355856e-01],\n",
              "       [-3.49268601e-01,  9.40347460e-01, -1.01363724e+00, ...,\n",
              "         6.57128741e-01, -6.39936303e-01, -1.42798056e+00],\n",
              "       ...,\n",
              "       [-1.64912549e-01, -2.31722397e-01, -5.13851972e-01, ...,\n",
              "         6.57128741e-01,  1.82647287e-01,  1.57705165e-03],\n",
              "       [ 5.24618196e-01, -2.90325889e-01, -1.68001759e+00, ...,\n",
              "         6.57128741e-01, -1.73671442e+00, -1.42798056e+00],\n",
              "       [ 1.41510816e+00,  1.17476143e+00,  1.15209891e+00, ...,\n",
              "         6.57128741e-01,  1.82647287e-01, -7.13201753e-01]])"
            ]
          },
          "metadata": {
            "tags": []
          },
          "execution_count": 59
        }
      ]
    },
    {
      "cell_type": "code",
      "metadata": {
        "colab": {
          "base_uri": "https://localhost:8080/",
          "height": 419
        },
        "id": "9fag4y2XYDnZ",
        "outputId": "2782fd85-7799-4eed-b083-e7674dd0d17e"
      },
      "source": [
        "X_scaled = pd.DataFrame(X_scaled)\n",
        "X_scaled"
      ],
      "execution_count": 60,
      "outputs": [
        {
          "output_type": "execute_result",
          "data": {
            "text/html": [
              "<div>\n",
              "<style scoped>\n",
              "    .dataframe tbody tr th:only-of-type {\n",
              "        vertical-align: middle;\n",
              "    }\n",
              "\n",
              "    .dataframe tbody tr th {\n",
              "        vertical-align: top;\n",
              "    }\n",
              "\n",
              "    .dataframe thead th {\n",
              "        text-align: right;\n",
              "    }\n",
              "</style>\n",
              "<table border=\"1\" class=\"dataframe\">\n",
              "  <thead>\n",
              "    <tr style=\"text-align: right;\">\n",
              "      <th></th>\n",
              "      <th>0</th>\n",
              "      <th>1</th>\n",
              "      <th>2</th>\n",
              "      <th>3</th>\n",
              "      <th>4</th>\n",
              "      <th>5</th>\n",
              "      <th>6</th>\n",
              "      <th>7</th>\n",
              "    </tr>\n",
              "  </thead>\n",
              "  <tbody>\n",
              "    <tr>\n",
              "      <th>0</th>\n",
              "      <td>-1.283145</td>\n",
              "      <td>-1.579603</td>\n",
              "      <td>-1.180232</td>\n",
              "      <td>0.337200</td>\n",
              "      <td>0.232447</td>\n",
              "      <td>0.657129</td>\n",
              "      <td>-0.914131</td>\n",
              "      <td>0.716356</td>\n",
              "    </tr>\n",
              "    <tr>\n",
              "      <th>1</th>\n",
              "      <td>0.895457</td>\n",
              "      <td>-0.583343</td>\n",
              "      <td>-0.014067</td>\n",
              "      <td>0.337200</td>\n",
              "      <td>0.232447</td>\n",
              "      <td>0.657129</td>\n",
              "      <td>0.731036</td>\n",
              "      <td>0.716356</td>\n",
              "    </tr>\n",
              "    <tr>\n",
              "      <th>2</th>\n",
              "      <td>-0.349269</td>\n",
              "      <td>0.940347</td>\n",
              "      <td>-1.013637</td>\n",
              "      <td>-2.965599</td>\n",
              "      <td>0.232447</td>\n",
              "      <td>0.657129</td>\n",
              "      <td>-0.639936</td>\n",
              "      <td>-1.427981</td>\n",
              "    </tr>\n",
              "    <tr>\n",
              "      <th>3</th>\n",
              "      <td>0.437526</td>\n",
              "      <td>-0.524740</td>\n",
              "      <td>-1.346827</td>\n",
              "      <td>0.337200</td>\n",
              "      <td>0.232447</td>\n",
              "      <td>-1.521772</td>\n",
              "      <td>-1.188325</td>\n",
              "      <td>0.001577</td>\n",
              "    </tr>\n",
              "    <tr>\n",
              "      <th>4</th>\n",
              "      <td>0.268128</td>\n",
              "      <td>-0.173119</td>\n",
              "      <td>0.152528</td>\n",
              "      <td>0.337200</td>\n",
              "      <td>0.232447</td>\n",
              "      <td>0.657129</td>\n",
              "      <td>-0.914131</td>\n",
              "      <td>1.431135</td>\n",
              "    </tr>\n",
              "    <tr>\n",
              "      <th>...</th>\n",
              "      <td>...</td>\n",
              "      <td>...</td>\n",
              "      <td>...</td>\n",
              "      <td>...</td>\n",
              "      <td>...</td>\n",
              "      <td>...</td>\n",
              "      <td>...</td>\n",
              "      <td>...</td>\n",
              "    </tr>\n",
              "    <tr>\n",
              "      <th>251995</th>\n",
              "      <td>1.097092</td>\n",
              "      <td>-0.407533</td>\n",
              "      <td>0.485719</td>\n",
              "      <td>0.337200</td>\n",
              "      <td>0.232447</td>\n",
              "      <td>0.657129</td>\n",
              "      <td>-0.091547</td>\n",
              "      <td>-0.713202</td>\n",
              "    </tr>\n",
              "    <tr>\n",
              "      <th>251996</th>\n",
              "      <td>-0.748199</td>\n",
              "      <td>-1.403792</td>\n",
              "      <td>-0.014067</td>\n",
              "      <td>0.337200</td>\n",
              "      <td>0.232447</td>\n",
              "      <td>0.657129</td>\n",
              "      <td>-0.091547</td>\n",
              "      <td>-0.713202</td>\n",
              "    </tr>\n",
              "    <tr>\n",
              "      <th>251997</th>\n",
              "      <td>-0.164913</td>\n",
              "      <td>-0.231722</td>\n",
              "      <td>-0.513852</td>\n",
              "      <td>0.337200</td>\n",
              "      <td>0.232447</td>\n",
              "      <td>0.657129</td>\n",
              "      <td>0.182647</td>\n",
              "      <td>0.001577</td>\n",
              "    </tr>\n",
              "    <tr>\n",
              "      <th>251998</th>\n",
              "      <td>0.524618</td>\n",
              "      <td>-0.290326</td>\n",
              "      <td>-1.680018</td>\n",
              "      <td>0.337200</td>\n",
              "      <td>0.232447</td>\n",
              "      <td>0.657129</td>\n",
              "      <td>-1.736714</td>\n",
              "      <td>-1.427981</td>\n",
              "    </tr>\n",
              "    <tr>\n",
              "      <th>251999</th>\n",
              "      <td>1.415108</td>\n",
              "      <td>1.174761</td>\n",
              "      <td>1.152099</td>\n",
              "      <td>0.337200</td>\n",
              "      <td>0.232447</td>\n",
              "      <td>0.657129</td>\n",
              "      <td>0.182647</td>\n",
              "      <td>-0.713202</td>\n",
              "    </tr>\n",
              "  </tbody>\n",
              "</table>\n",
              "<p>252000 rows × 8 columns</p>\n",
              "</div>"
            ],
            "text/plain": [
              "               0         1         2  ...         5         6         7\n",
              "0      -1.283145 -1.579603 -1.180232  ...  0.657129 -0.914131  0.716356\n",
              "1       0.895457 -0.583343 -0.014067  ...  0.657129  0.731036  0.716356\n",
              "2      -0.349269  0.940347 -1.013637  ...  0.657129 -0.639936 -1.427981\n",
              "3       0.437526 -0.524740 -1.346827  ... -1.521772 -1.188325  0.001577\n",
              "4       0.268128 -0.173119  0.152528  ...  0.657129 -0.914131  1.431135\n",
              "...          ...       ...       ...  ...       ...       ...       ...\n",
              "251995  1.097092 -0.407533  0.485719  ...  0.657129 -0.091547 -0.713202\n",
              "251996 -0.748199 -1.403792 -0.014067  ...  0.657129 -0.091547 -0.713202\n",
              "251997 -0.164913 -0.231722 -0.513852  ...  0.657129  0.182647  0.001577\n",
              "251998  0.524618 -0.290326 -1.680018  ...  0.657129 -1.736714 -1.427981\n",
              "251999  1.415108  1.174761  1.152099  ...  0.657129  0.182647 -0.713202\n",
              "\n",
              "[252000 rows x 8 columns]"
            ]
          },
          "metadata": {
            "tags": []
          },
          "execution_count": 60
        }
      ]
    },
    {
      "cell_type": "code",
      "metadata": {
        "colab": {
          "base_uri": "https://localhost:8080/",
          "height": 286
        },
        "id": "hrWvqe_ra52I",
        "outputId": "a004727a-4ce6-42fd-914a-57e8ad21395b"
      },
      "source": [
        "sns.heatmap(X_scaled.corr(),annot=True)"
      ],
      "execution_count": 61,
      "outputs": [
        {
          "output_type": "execute_result",
          "data": {
            "text/plain": [
              "<matplotlib.axes._subplots.AxesSubplot at 0x7fc7b425ed10>"
            ]
          },
          "metadata": {
            "tags": []
          },
          "execution_count": 61
        },
        {
          "output_type": "display_data",
          "data": {
            "image/png": "[encoded data removed]",
            "text/plain": [
              "<Figure size 432x288 with 2 Axes>"
            ]
          },
          "metadata": {
            "tags": [],
            "needs_background": "light"
          }
        }
      ]
    },
    {
      "cell_type": "markdown",
      "metadata": {
        "id": "5sMTXbHzju83"
      },
      "source": [
        "# Using STACKING Ensemble Technique"
      ]
    },
    {
      "cell_type": "markdown",
      "metadata": {
        "id": "jph9nkq5j9Dw"
      },
      "source": [
        "***Our BASE MODEL has KNN Classifier and SVC***"
      ]
    },
    {
      "cell_type": "code",
      "metadata": {
        "id": "4aueZmsrbGdz"
      },
      "source": [
        "import pandas as pd\n",
        "from sklearn.neighbors import KNeighborsClassifier\n",
        "from sklearn.svm import SVC\n",
        "from sklearn.ensemble import RandomForestClassifier\n",
        "from sklearn import tree\n",
        "from sklearn.model_selection import train_test_split\n",
        "import numpy as np"
      ],
      "execution_count": 62,
      "outputs": []
    },
    {
      "cell_type": "code",
      "metadata": {
        "id": "XMRfzDHFbaDK"
      },
      "source": [
        "# let's divide our dataset into training set and hold out set by 50%\n",
        "train,val_train,test,val_test = train_test_split(X_scaled,y,test_size=0.5, random_state= 355)"
      ],
      "execution_count": 63,
      "outputs": []
    },
    {
      "cell_type": "code",
      "metadata": {
        "id": "F_WX3H3vbmrr"
      },
      "source": [
        "# let's split the training set again into training and test dataset \n",
        "x_train,x_test,y_train,y_test =  train_test_split(train,test,test_size=0.2, random_state= 355)"
      ],
      "execution_count": 64,
      "outputs": []
    },
    {
      "cell_type": "code",
      "metadata": {
        "colab": {
          "base_uri": "https://localhost:8080/"
        },
        "id": "yyzFvxGDbzIO",
        "outputId": "107fa0aa-1831-427e-fd63-325c855f2929"
      },
      "source": [
        "knn = KNeighborsClassifier()\n",
        "\n",
        "knn.fit(x_train,y_train)\n"
      ],
      "execution_count": 65,
      "outputs": [
        {
          "output_type": "execute_result",
          "data": {
            "text/plain": [
              "KNeighborsClassifier(algorithm='auto', leaf_size=30, metric='minkowski',\n",
              "                     metric_params=None, n_jobs=None, n_neighbors=5, p=2,\n",
              "                     weights='uniform')"
            ]
          },
          "metadata": {
            "tags": []
          },
          "execution_count": 65
        }
      ]
    },
    {
      "cell_type": "code",
      "metadata": {
        "colab": {
          "base_uri": "https://localhost:8080/"
        },
        "id": "7U4nlaM5b4ET",
        "outputId": "3994f9bb-cddd-459b-c3ef-031ff54aeb56"
      },
      "source": [
        "knn.score(x_test,y_test)"
      ],
      "execution_count": 66,
      "outputs": [
        {
          "output_type": "execute_result",
          "data": {
            "text/plain": [
              "0.8877777777777778"
            ]
          },
          "metadata": {
            "tags": []
          },
          "execution_count": 66
        }
      ]
    },
    {
      "cell_type": "code",
      "metadata": {
        "id": "5QG2pBL7lFXw"
      },
      "source": [
        "# saving the model to the local file system\n",
        "filename = 'knnbase_model.pickle'\n",
        "pickle.dump(knn, open(filename, 'wb'))"
      ],
      "execution_count": 81,
      "outputs": []
    },
    {
      "cell_type": "code",
      "metadata": {
        "colab": {
          "base_uri": "https://localhost:8080/"
        },
        "id": "ciK9LANZcOkG",
        "outputId": "0205903b-d68e-4835-d739-99a785ea4a6d"
      },
      "source": [
        "svm = SVC()\n",
        "svm.fit(x_train,y_train)"
      ],
      "execution_count": 67,
      "outputs": [
        {
          "output_type": "execute_result",
          "data": {
            "text/plain": [
              "SVC(C=1.0, break_ties=False, cache_size=200, class_weight=None, coef0=0.0,\n",
              "    decision_function_shape='ovr', degree=3, gamma='scale', kernel='rbf',\n",
              "    max_iter=-1, probability=False, random_state=None, shrinking=True,\n",
              "    tol=0.001, verbose=False)"
            ]
          },
          "metadata": {
            "tags": []
          },
          "execution_count": 67
        }
      ]
    },
    {
      "cell_type": "code",
      "metadata": {
        "colab": {
          "base_uri": "https://localhost:8080/"
        },
        "id": "vj_a3F1qcUn4",
        "outputId": "a7507a8e-fecd-4945-9911-f477f52908c6"
      },
      "source": [
        "svm.score(x_test,y_test)"
      ],
      "execution_count": 68,
      "outputs": [
        {
          "output_type": "execute_result",
          "data": {
            "text/plain": [
              "0.876547619047619"
            ]
          },
          "metadata": {
            "tags": []
          },
          "execution_count": 68
        }
      ]
    },
    {
      "cell_type": "code",
      "metadata": {
        "id": "QWYAGlM-lQ7G"
      },
      "source": [
        "# saving the model to the local file system\n",
        "filename = 'svcbase_model.pickle'\n",
        "pickle.dump(svm, open(filename, 'wb'))"
      ],
      "execution_count": 82,
      "outputs": []
    },
    {
      "cell_type": "code",
      "metadata": {
        "id": "l8mnLGWuckpU"
      },
      "source": [
        "predict_val1 = knn.predict(val_train)\n",
        "predict_val2 = svm.predict(val_train)"
      ],
      "execution_count": 69,
      "outputs": []
    },
    {
      "cell_type": "code",
      "metadata": {
        "colab": {
          "base_uri": "https://localhost:8080/"
        },
        "id": "C9ODjBRfcnZM",
        "outputId": "bd14a191-dd6a-48f9-e2d1-2cf0d06fc5a9"
      },
      "source": [
        "predict_val = np.column_stack((predict_val1,predict_val2))\n",
        "predict_val"
      ],
      "execution_count": 70,
      "outputs": [
        {
          "output_type": "execute_result",
          "data": {
            "text/plain": [
              "array([[0, 0],\n",
              "       [0, 0],\n",
              "       [0, 0],\n",
              "       ...,\n",
              "       [0, 0],\n",
              "       [0, 0],\n",
              "       [0, 0]])"
            ]
          },
          "metadata": {
            "tags": []
          },
          "execution_count": 70
        }
      ]
    },
    {
      "cell_type": "code",
      "metadata": {
        "id": "rF8tMgIWcoAk"
      },
      "source": [
        "predict_test1 = knn.predict(x_test)\n",
        "predict_test2 = svm.predict(x_test)"
      ],
      "execution_count": 71,
      "outputs": []
    },
    {
      "cell_type": "code",
      "metadata": {
        "colab": {
          "base_uri": "https://localhost:8080/"
        },
        "id": "cC8YgFiBcrkG",
        "outputId": "767cbbb2-b431-4483-9a00-f4f9db5ec2d0"
      },
      "source": [
        "predict_test = np.column_stack((predict_test1,predict_test2))\n",
        "predict_test"
      ],
      "execution_count": 72,
      "outputs": [
        {
          "output_type": "execute_result",
          "data": {
            "text/plain": [
              "array([[0, 0],\n",
              "       [0, 0],\n",
              "       [1, 0],\n",
              "       ...,\n",
              "       [0, 0],\n",
              "       [1, 0],\n",
              "       [0, 0]])"
            ]
          },
          "metadata": {
            "tags": []
          },
          "execution_count": 72
        }
      ]
    },
    {
      "cell_type": "markdown",
      "metadata": {
        "id": "RCPt-FrskLl_"
      },
      "source": [
        "***Using Random Forest for META_MODEL***"
      ]
    },
    {
      "cell_type": "code",
      "metadata": {
        "colab": {
          "base_uri": "https://localhost:8080/"
        },
        "id": "1yMIyUa0czbl",
        "outputId": "b9a7fd9b-0b43-454c-d23d-57441dfaf916"
      },
      "source": [
        "rand_clf = RandomForestClassifier()\n",
        "\n",
        "rand_clf.fit(predict_val,val_test)"
      ],
      "execution_count": 73,
      "outputs": [
        {
          "output_type": "execute_result",
          "data": {
            "text/plain": [
              "RandomForestClassifier(bootstrap=True, ccp_alpha=0.0, class_weight=None,\n",
              "                       criterion='gini', max_depth=None, max_features='auto',\n",
              "                       max_leaf_nodes=None, max_samples=None,\n",
              "                       min_impurity_decrease=0.0, min_impurity_split=None,\n",
              "                       min_samples_leaf=1, min_samples_split=2,\n",
              "                       min_weight_fraction_leaf=0.0, n_estimators=100,\n",
              "                       n_jobs=None, oob_score=False, random_state=None,\n",
              "                       verbose=0, warm_start=False)"
            ]
          },
          "metadata": {
            "tags": []
          },
          "execution_count": 73
        }
      ]
    },
    {
      "cell_type": "code",
      "metadata": {
        "colab": {
          "base_uri": "https://localhost:8080/"
        },
        "id": "JagqKfuqc2tG",
        "outputId": "3d41647a-360a-4398-a55b-39228bd10669"
      },
      "source": [
        "rand_clf.score(predict_test,y_test)"
      ],
      "execution_count": 74,
      "outputs": [
        {
          "output_type": "execute_result",
          "data": {
            "text/plain": [
              "0.8877777777777778"
            ]
          },
          "metadata": {
            "tags": []
          },
          "execution_count": 74
        }
      ]
    },
    {
      "cell_type": "code",
      "metadata": {
        "id": "nPmhKrVIpKPZ"
      },
      "source": [
        "result = rand_clf.predict(predict_test)"
      ],
      "execution_count": 86,
      "outputs": []
    },
    {
      "cell_type": "markdown",
      "metadata": {
        "id": "kdnzx6IkjmbR"
      },
      "source": [
        "**Saving model**"
      ]
    },
    {
      "cell_type": "code",
      "metadata": {
        "id": "Iba_uglEiwmo"
      },
      "source": [
        "import pickle"
      ],
      "execution_count": 76,
      "outputs": []
    },
    {
      "cell_type": "code",
      "metadata": {
        "id": "CLDCOoxehaZ5"
      },
      "source": [
        "# saving the model to the local file system\n",
        "filename = 'finalized_model.pickle'\n",
        "pickle.dump(rand_clf, open(filename, 'wb'))"
      ],
      "execution_count": 77,
      "outputs": []
    },
    {
      "cell_type": "code",
      "metadata": {
        "colab": {
          "base_uri": "https://localhost:8080/"
        },
        "id": "JLQAaPAVhphs",
        "outputId": "f54a2f43-2064-4869-e118-e0af2e5e1378"
      },
      "source": [
        "# prediction using the saved model\n",
        "loaded_model = pickle.load(open(filename, 'rb'))\n",
        "a=loaded_model.predict([[0,0]])\n",
        "a"
      ],
      "execution_count": 80,
      "outputs": [
        {
          "output_type": "execute_result",
          "data": {
            "text/plain": [
              "array([0])"
            ]
          },
          "metadata": {
            "tags": []
          },
          "execution_count": 80
        }
      ]
    },
    {
      "cell_type": "code",
      "metadata": {
        "id": "aFAISf3ZmRrI"
      },
      "source": [
        "from sklearn.metrics import *"
      ],
      "execution_count": 83,
      "outputs": []
    },
    {
      "cell_type": "code",
      "metadata": {
        "colab": {
          "base_uri": "https://localhost:8080/"
        },
        "id": "Nq3WEdIvjQG4",
        "outputId": "254da683-1356-46e1-e51b-434f013b9410"
      },
      "source": [
        "print(confusion_matrix(y_test,result))\n",
        "print(\"Accuracy Score {}\".format(accuracy_score(y_test,result)))\n",
        "print(\"Classification report: {}\".format(classification_report(y_test,result)))"
      ],
      "execution_count": 87,
      "outputs": [
        {
          "output_type": "stream",
          "text": [
            "[[20876  1213]\n",
            " [ 1615  1496]]\n",
            "Accuracy Score 0.8877777777777778\n",
            "Classification report:               precision    recall  f1-score   support\n",
            "\n",
            "           0       0.93      0.95      0.94     22089\n",
            "           1       0.55      0.48      0.51      3111\n",
            "\n",
            "    accuracy                           0.89     25200\n",
            "   macro avg       0.74      0.71      0.73     25200\n",
            "weighted avg       0.88      0.89      0.88     25200\n",
            "\n"
          ],
          "name": "stdout"
        }
      ]
    },
    {
      "cell_type": "markdown",
      "metadata": {
        "id": "1neaPdr5p-tm"
      },
      "source": [
        "## Our data is Imbalance. So, our score with Imbalance dataset is as Above.\n",
        "# Oversampling of data can be performed will be performed in seprate file.\n",
        "#Not necessary result will improve"
      ]
    },
    {
      "cell_type": "code",
      "metadata": {
        "id": "CEtiNcOJpy_q"
      },
      "source": [
        ""
      ],
      "execution_count": null,
      "outputs": []
    }
  ]
}